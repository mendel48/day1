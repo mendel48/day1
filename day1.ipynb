{
 "cells": [
  {
   "cell_type": "markdown",
   "metadata": {},
   "source": [
    "## jhon brice lesson 1 "
   ]
  },
  {
   "cell_type": "markdown",
   "metadata": {},
   "source": [
    "# Markdown Demo\n",
    "\n",
    "This is a markdown cell. It is used to write text in the notebook. It is a simple way to write and format text. You can use markdown to make your text **bold**, *italic*, or even include [links](https://www.kaggle.com/).\n",
    "\n",
    "You can make lists like this:\n",
    "- First item\n",
    "- Second item\n",
    "- Third item\n",
    "\n",
    "LaTeX equations can be included as well:\n",
    "\n",
    "$$e^x=\\sum_{i=0}^\\infty \\frac{1}{i!}x^i$$\n",
    "$$\\frac{1}{\\Bigl(\\sqrt{\\phi \\sqrt{5}}-\\phi\\Bigr) e^{\\frac25 \\pi}} = 1+\\frac{e^{-2\\pi}} {1+\\frac{e^{-4\\pi}} {1+\\frac{e^{-6\\pi}} {1+\\frac{e^{-8\\pi}} {1+\\ldots} } } }$$"
   ]
  },
  {
   "cell_type": "markdown",
   "metadata": {},
   "source": [
    "### data types and variable "
   ]
  },
  {
   "cell_type": "code",
   "execution_count": 3,
   "metadata": {},
   "outputs": [],
   "source": [
    "my_int = 5\n",
    "my_float = 5.5\n",
    "my_string = \"mendel\"\n",
    "my_bool = True\n",
    "my_complex = 2 + 5j"
   ]
  },
  {
   "cell_type": "markdown",
   "metadata": {},
   "source": [
    "### Operators "
   ]
  },
  {
   "cell_type": "markdown",
   "metadata": {},
   "source": []
  },
  {
   "cell_type": "code",
   "execution_count": 4,
   "metadata": {},
   "outputs": [
    {
     "name": "stdout",
     "output_type": "stream",
     "text": [
      "a + b 7\n",
      "a - b 3\n",
      "a * b 10\n",
      "a / b 2.5\n",
      "a // b 2\n",
      "a % b 1\n",
      "a ** b 25\n",
      "a + b helloworld\n",
      "a * 3 hellohellohello\n",
      "a and b False\n",
      "a or b True\n",
      "not a False\n"
     ]
    }
   ],
   "source": [
    "# number operations\n",
    "a = 5\n",
    "b = 2\n",
    "print('a + b', a + b)\n",
    "print('a - b', a - b)\n",
    "print('a * b', a * b)\n",
    "print('a / b', a / b)\n",
    "print('a // b', a // b)\n",
    "print('a % b', a % b)\n",
    "print('a ** b', a ** b)\n",
    "# string operations\n",
    "a = 'hello'\n",
    "b = 'world'\n",
    "print('a + b', a + b)\n",
    "print('a * 3', a * 3)\n",
    "# boolean operations    \n",
    "a = True\n",
    "b = False\n",
    "print('a and b', a and b)\n",
    "print('a or b', a or b)\n",
    "print('not a', not a)\n",
    " "
   ]
  },
  {
   "cell_type": "markdown",
   "metadata": {},
   "source": [
    "### string methods  \n"
   ]
  },
  {
   "cell_type": "code",
   "execution_count": 9,
   "metadata": {},
   "outputs": [
    {
     "name": "stdout",
     "output_type": "stream",
     "text": [
      "mendel , sellam \n",
      "MENDEL , SELLAM \n",
      "3\n",
      "['mendel ', ' sellam ']\n",
      "mendel , sellam \n"
     ]
    }
   ],
   "source": [
    "my_string = \"mendel , sellam \"\n",
    "print(my_string)\n",
    "print(my_string.upper())\n",
    "print(my_string.count('l'))\n",
    "print(my_string.split(','))\n",
    "print(my_string)"
   ]
  },
  {
   "cell_type": "markdown",
   "metadata": {},
   "source": [
    "### string is sequaence of caracter \n",
    "### the slicing is take in acount the first but not the last in ex: [0:5] = from 0 to the 4"
   ]
  },
  {
   "cell_type": "code",
   "execution_count": 21,
   "metadata": {},
   "outputs": [
    {
     "name": "stdout",
     "output_type": "stream",
     "text": [
      "m\n",
      "i\n",
      "mende\n",
      "nde\n",
      "imalles lednem\n",
      "llami\n",
      "e\n"
     ]
    }
   ],
   "source": [
    "my_str = 'mendel sellami'\n",
    "print(my_str[0])\n",
    "print(my_str[-1])\n",
    "\n",
    "print(my_str[0:5])\n",
    "print(my_str[2:5])\n",
    "## inverse \n",
    "print(my_str[::-1])\n",
    "print(my_str[-5:])\n",
    "start , stop , step = 1 , 3, 4 \n",
    "print(my_str[start:step:stop])\n",
    "\n",
    "\n"
   ]
  },
  {
   "cell_type": "code",
   "execution_count": null,
   "metadata": {},
   "outputs": [],
   "source": []
  },
  {
   "cell_type": "markdown",
   "metadata": {},
   "source": [
    "### string location         \n",
    "### .2f is to reasive after point "
   ]
  },
  {
   "cell_type": "code",
   "execution_count": 25,
   "metadata": {},
   "outputs": [
    {
     "name": "stdout",
     "output_type": "stream",
     "text": [
      "john is at (5.52525, 7.54545)\n",
      "john is at (5.53, 7.55)\n",
      "john is at (5.53, 7.55)\n"
     ]
    }
   ],
   "source": [
    "location_x = 5.52525\n",
    "location_y = 7.54545\n",
    "length = 10\n",
    "name = 'john'\n",
    "print(f'{name} is at ({location_x}, {location_y})')\n",
    "print(f'{name} is at ({location_x:.2f}, {location_y:.2f})')\n",
    "print('{} is at ({:.2f}, {:.2f})'.format(name, location_x, location_y))"
   ]
  },
  {
   "cell_type": "markdown",
   "metadata": {},
   "source": [
    "### List"
   ]
  },
  {
   "cell_type": "code",
   "execution_count": 34,
   "metadata": {},
   "outputs": [
    {
     "name": "stdout",
     "output_type": "stream",
     "text": [
      "[1, 2, 3, 4, 5, 6]\n",
      "[10, 2, 3, 4, 5, 6]\n",
      "[10, 2, 3, 4, 5, 6, 6]\n",
      "[10, 2, 3, 0, 4, 5, 6, 6]\n",
      "my_lst pop 10\n"
     ]
    }
   ],
   "source": [
    "my_lst = [1,2,3,4,5,6]\n",
    "print(my_lst)\n",
    "my_lst[0] = 10 # update a list as at location 0\n",
    "print(my_lst)\n",
    "my_lst.append(6)\n",
    "print(my_lst)\n",
    "my_lst.insert(3,0)\n",
    "print(my_lst)\n",
    "item = my_lst.pop(0)\n",
    "print('my_lst pop' , item)"
   ]
  },
  {
   "cell_type": "code",
   "execution_count": 36,
   "metadata": {},
   "outputs": [
    {
     "name": "stdout",
     "output_type": "stream",
     "text": [
      "[1, 2, 3, 4, 5, 6, 7, 8, 9, 10]\n",
      "[1, 2, 3, 4, 5, 1, 2, 3, 4, 5, 1, 2, 3, 4, 5]\n",
      "[1, 2, 30, 40, 5]\n",
      "[1, 2, 30, 40, 50, 60, 5]\n",
      "[1, 2, 50, 60, 5]\n"
     ]
    }
   ],
   "source": [
    "my_lst1 = [1, 2, 3, 4, 5]\n",
    "my_lst2 = [6, 7, 8, 9, 10]\n",
    "print(my_lst1 + my_lst2)\n",
    "print(my_lst1 * 3)\n",
    "# list slice are references\n",
    "my_lst1[2:4] = [30, 40]\n",
    "print(my_lst1)\n",
    "my_lst1[2:4] = [30, 40, 50, 60]\n",
    "print(my_lst1)\n",
    "my_lst1[2:4] = []\n",
    "print(my_lst1)"
   ]
  },
  {
   "cell_type": "markdown",
   "metadata": {},
   "source": [
    "### Tuples"
   ]
  },
  {
   "cell_type": "code",
   "execution_count": 41,
   "metadata": {},
   "outputs": [
    {
     "name": "stdout",
     "output_type": "stream",
     "text": [
      "(1, 2, 3, 4, 5)\n",
      "1\n",
      "(2, 3, 4)\n",
      "(10, 20, 30, 40, 50)\n",
      "10 20 30 40 50\n",
      "transforme tuples to lst [10, 20, 30, 40, 50]\n"
     ]
    }
   ],
   "source": [
    "my_tup = (1, 2, 3, 4, 5)\n",
    "print(my_tup)\n",
    "print(my_tup[0])\n",
    "print(my_tup[1:4])\n",
    "# my_tup[0] = 10 # error\n",
    "my_tup = (10, 20, 30, 40, 50)\n",
    "print(my_tup)\n",
    "a, b, c, d, e = my_tup\n",
    "print(a, b, c, d, e)\n",
    "\n",
    "# to transforme tuples to lst \n",
    "print(f'transforme tuples to lst {list(my_tup)}')"
   ]
  },
  {
   "cell_type": "markdown",
   "metadata": {},
   "source": [
    "### Sets (good to no cduplicate)"
   ]
  },
  {
   "cell_type": "code",
   "execution_count": 48,
   "metadata": {},
   "outputs": [
    {
     "name": "stdout",
     "output_type": "stream",
     "text": [
      "{1, 2, 3, 4, 5}\n",
      "True\n",
      "False\n",
      "my_set1 {1, 2, 3, 4, 5}\n",
      "my_set2 {4, 5, 6, 7, 8}\n",
      "my_set1 - my_set2 {1, 2, 3}\n",
      "my_set2 - my_set1 {8, 6, 7}\n",
      "my_set1 | my_set2 {1, 2, 3, 4, 5, 6, 7, 8}\n",
      "my_set1 & my_set2 {4, 5}\n",
      "my_set1 ^ my_set2 {1, 2, 3, 6, 7, 8}\n"
     ]
    }
   ],
   "source": [
    "my_set1 = {1, 2, 3, 4, 5, 5, 1}\n",
    "my_set2 = {4, 5, 6, 7, 8}\n",
    "print(my_set1)\n",
    "# print(my_set1[0]) # error\n",
    "# print True if number one is in my set and False if not \n",
    "print(1 in my_set1)\n",
    "print(1 in my_set2)\n",
    "print('my_set1', my_set1)\n",
    "print('my_set2', my_set2)\n",
    "print('my_set1 - my_set2', my_set1 - my_set2)\n",
    "print('my_set2 - my_set1', my_set2 - my_set1)\n",
    "print('my_set1 | my_set2', my_set1 | my_set2) # OR \n",
    "print('my_set1 & my_set2', my_set1 & my_set2) # AND\n",
    "print('my_set1 ^ my_set2', my_set1 ^ my_set2) # XOR\n",
    "\n"
   ]
  },
  {
   "cell_type": "markdown",
   "metadata": {},
   "source": [
    "### Dictionary"
   ]
  },
  {
   "cell_type": "code",
   "execution_count": 58,
   "metadata": {},
   "outputs": [
    {
     "name": "stdout",
     "output_type": "stream",
     "text": [
      "{'name': 'John', 'age': 30, 'is_student': False}\n",
      "John\n",
      "30\n",
      "False\n",
      "{'name': 'Jane', 'age': 30, 'is_student': False}\n",
      "{'name': 'Jane', 'age': 30, 'is_student': False, 'is_teacher': True}\n",
      "{'name': 'Jane', 'age': 30, 'is_student': False}\n",
      "{'name': 'Jane', 'age': 31, 'is_student': False}\n",
      "<class 'int'>\n",
      "<class 'str'>\n"
     ]
    }
   ],
   "source": [
    "my_d = {\n",
    "    'name': 'John',\n",
    "    'age': 30,\n",
    "    'is_student': False\n",
    "}\n",
    "print(my_d)\n",
    "print(my_d['name'])\n",
    "print(my_d['age'])\n",
    "print(my_d['is_student'])\n",
    "my_d['name'] = 'Jane'\n",
    "print(my_d)\n",
    "my_d['is_teacher'] = True\n",
    "print(my_d)\n",
    "del my_d['is_teacher']\n",
    "print(my_d)\n",
    "my_d['age'] += 1\n",
    "print(my_d)\n",
    "print(type(my_d[\"age\"]))\n",
    "print(type(my_d[\"name\"]))\n",
    "\n"
   ]
  },
  {
   "cell_type": "code",
   "execution_count": null,
   "metadata": {},
   "outputs": [],
   "source": []
  }
 ],
 "metadata": {
  "kernelspec": {
   "display_name": "Python 3",
   "language": "python",
   "name": "python3"
  },
  "language_info": {
   "codemirror_mode": {
    "name": "ipython",
    "version": 3
   },
   "file_extension": ".py",
   "mimetype": "text/x-python",
   "name": "python",
   "nbconvert_exporter": "python",
   "pygments_lexer": "ipython3",
   "version": "3.11.4"
  }
 },
 "nbformat": 4,
 "nbformat_minor": 2
}
